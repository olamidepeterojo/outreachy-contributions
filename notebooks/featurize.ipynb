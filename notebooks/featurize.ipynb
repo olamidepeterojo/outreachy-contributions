{
 "cells": [
  {
   "cell_type": "code",
   "execution_count": null,
   "metadata": {
    "scrolled": true
   },
   "outputs": [],
   "source": [
    "# Load the dataset \n",
    "from ersilia import ErsiliaModel\n",
    "import pandas as pd\n",
    "\n",
    "smiles_list = [\"CC(=O)Nc1cnccc1C\"]\n",
    "\n",
    "#load the model\n",
    "model = ErsiliaModel(\"eos4wt0\")\n",
    "model.serve()\n",
    "\n",
    "#run the featurization\n",
    "embeddings = model.run(smiles_list)\n",
    "\n",
    "#save the features\n",
    "features = pd.DataFrame(embeddings)\n",
    "features.to_csv(\"features.csv\", index=False)"
   ]
  }
 ],
 "metadata": {
  "kernelspec": {
   "display_name": "Python 3",
   "language": "python",
   "name": "python3"
  },
  "language_info": {
   "codemirror_mode": {
    "name": "ipython",
    "version": 3
   },
   "file_extension": ".py",
   "mimetype": "text/x-python",
   "name": "python",
   "nbconvert_exporter": "python",
   "pygments_lexer": "ipython3",
   "version": "3.13.1"
  }
 },
 "nbformat": 4,
 "nbformat_minor": 4
}
